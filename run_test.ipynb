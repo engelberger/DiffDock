{
 "cells": [
  {
   "cell_type": "markdown",
   "metadata": {},
   "source": [
    "## Modified by @engelberger from the Colab notebook of Brian Naughton @btnaughton\n"
   ]
  },
  {
   "cell_type": "code",
   "execution_count": 5,
   "metadata": {},
   "outputs": [],
   "source": [
    "PDB_id = '' #@param {type:\"string\"}\n",
    "SMILES_or_pubchem_id = '' #@param {type:\"string\"}"
   ]
  },
  {
   "cell_type": "code",
   "execution_count": 6,
   "metadata": {},
   "outputs": [],
   "source": [
    "import os\n",
    "import requests\n",
    "import time\n",
    "from random import random\n",
    "\n",
    "def download_pdb_file(pdb_id: str) -> str:\n",
    "    \"\"\"Download pdb file as a string from rcsb.org\"\"\"\n",
    "    PDB_DIR =\"./tmp/pdb/\"\n",
    "    os.makedirs(PDB_DIR, exist_ok=True)\n",
    "\n",
    "    # url or pdb_id\n",
    "    if pdb_id.startswith('http'):\n",
    "        url = pdb_id\n",
    "        filename = url.split('/')[-1]\n",
    "    else:\n",
    "        url = f\"http://files.rcsb.org/view/{pdb_id}.pdb\"\n",
    "        filename = f'{pdb_id}.pdb'\n",
    "\n",
    "    cache_path = os.path.join(PDB_DIR, filename)\n",
    "    if os.path.exists(cache_path):\n",
    "        return cache_path\n",
    "\n",
    "    pdb_req = requests.get(url)\n",
    "    pdb_req.raise_for_status()\n",
    "    open(cache_path, 'w').write(pdb_req.text)\n",
    "    return cache_path\n",
    "\n",
    "def download_smiles_str(pubchem_id: str, retries:int = 2) -> str:\n",
    "    \"\"\"Given a pubchem id, get a smiles string\"\"\"\n",
    "    while True:\n",
    "        req = requests.get(f\"https://pubchem.ncbi.nlm.nih.gov/rest/pug/compound/CID/{pubchem_id}/property/CanonicalSMILES/CSV\")\n",
    "        smiles_url_csv = req.text if req.status_code == 200 else None\n",
    "        if smiles_url_csv is not None:\n",
    "            break\n",
    "        if retries == 0:\n",
    "            return None\n",
    "        time.sleep(1+random())\n",
    "        retries -= 1\n",
    "\n",
    "    return smiles_url_csv.splitlines()[1].split(',')[1].strip('\"').strip(\"'\") if smiles_url_csv is not None else None"
   ]
  },
  {
   "cell_type": "code",
   "execution_count": 7,
   "metadata": {},
   "outputs": [
    {
     "name": "stdout",
     "output_type": "stream",
     "text": [
      "No input supplied. Using example data: 6agt and COc(cc1)ccc1C#N\n"
     ]
    }
   ],
   "source": [
    "if not PDB_id or not SMILES_or_pubchem_id:\n",
    "    PDB_id = \"6agt\"\n",
    "    SMILES_or_pubchem_id = \"COc(cc1)ccc1C#N\"\n",
    "    print(f\"No input supplied. Using example data: {PDB_id} and {SMILES_or_pubchem_id}\")\n",
    "# to run many PDB+smiles at once, fill in a list of PDB_files and smiles here...\n",
    "pdb_files = [download_pdb_file(PDB_id)]\n",
    "smiless = [download_smiles_str(SMILES_or_pubchem_id) if str(SMILES_or_pubchem_id).isnumeric() else SMILES_or_pubchem_id]\n",
    "\n",
    "with open(\"./tmp/input_protein_ligand.csv\", 'w') as out:\n",
    "    out.write(\"protein_path,ligand\\n\")\n",
    "    for pdb_file in pdb_files:\n",
    "        for smiles in smiless:\n",
    "            out.write(f\"{pdb_file},{smiles}\\n\")"
   ]
  },
  {
   "cell_type": "code",
   "execution_count": null,
   "metadata": {},
   "outputs": [],
   "source": [
    "import torch\n",
    "\n",
    "try:\n",
    "    import torch_geometric\n",
    "except ModuleNotFoundError:\n",
    "    # P"
   ]
  }
 ],
 "metadata": {
  "kernelspec": {
   "display_name": "Python 3 (ipykernel)",
   "language": "python",
   "name": "python3"
  },
  "language_info": {
   "codemirror_mode": {
    "name": "ipython",
    "version": 3
   },
   "file_extension": ".py",
   "mimetype": "text/x-python",
   "name": "python",
   "nbconvert_exporter": "python",
   "pygments_lexer": "ipython3",
   "version": "3.8.10"
  },
  "orig_nbformat": 4
 },
 "nbformat": 4,
 "nbformat_minor": 2
}
